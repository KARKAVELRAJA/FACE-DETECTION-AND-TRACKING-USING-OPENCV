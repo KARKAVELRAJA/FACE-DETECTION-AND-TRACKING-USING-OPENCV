{
 "cells": [
  {
   "cell_type": "markdown",
   "metadata": {},
   "source": [
    "# Face Detection and Tracking using OpenCV"
   ]
  },
  {
   "cell_type": "code",
   "execution_count": 10,
   "metadata": {},
   "outputs": [],
   "source": [
    "import cv2\n",
    "\n",
    "camera = cv2.VideoCapture(0) \n",
    "model  = cv2.CascadeClassifier(\"haarcascade_frontalface_default.xml\") # Loading the pre_trained Model\n",
    "\n",
    "while True:\n",
    "    _, img = camera.read()\n",
    "    img    = cv2.flip(img,1)\n",
    "    gray   = cv2.cvtColor(img,cv2.COLOR_BGR2GRAY)\n",
    "    result =  model.detectMultiScale(gray,1.3,4) # getting the co-ordinates of the face\n",
    "    for (x,y,w,h) in result:\n",
    "        cv2.rectangle(img,(x,y),(x+w,y+h),(0,255,0),2)\n",
    "    cv2.imshow(\"Face Detection\",img)\n",
    "    key = cv2.waitKey(1) & 0xFF\n",
    "    if key == ord(\"q\"):\n",
    "        break\n",
    "camera.release()\n",
    "cv2.destroyAllWindows()"
   ]
  }
 ],
 "metadata": {
  "kernelspec": {
   "display_name": "Python 3",
   "language": "python",
   "name": "python3"
  },
  "language_info": {
   "codemirror_mode": {
    "name": "ipython",
    "version": 3
   },
   "file_extension": ".py",
   "mimetype": "text/x-python",
   "name": "python",
   "nbconvert_exporter": "python",
   "pygments_lexer": "ipython3",
   "version": "3.8.5"
  }
 },
 "nbformat": 4,
 "nbformat_minor": 4
}
